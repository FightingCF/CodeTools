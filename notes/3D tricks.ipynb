{
 "cells": [
  {
   "cell_type": "markdown",
   "metadata": {},
   "source": [
    "## inverse depth sample"
   ]
  },
  {
   "cell_type": "code",
   "execution_count": 2,
   "metadata": {},
   "outputs": [
    {
     "data": {
      "text/plain": [
       "array([100.        ,   8.33333333,   4.34782609,   2.94117647,\n",
       "         2.22222222,   1.78571429,   1.49253731,   1.28205128,\n",
       "         1.12359551,   1.        ])"
      ]
     },
     "execution_count": 2,
     "metadata": {},
     "output_type": "execute_result"
    }
   ],
   "source": [
    "import numpy as np\n",
    "def inv_depths(start_depth, end_depth, num_depths):\n",
    "    \"\"\"Sample reversed, sorted inverse depths between a near and far plane.\n",
    "\n",
    "    Args:\n",
    "      start_depth: The first depth (i.e. near plane distance).\n",
    "      end_depth: The last depth (i.e. far plane distance).\n",
    "      num_depths: The total number of depths to create. start_depth and\n",
    "          end_depth are always included and other depths are sampled\n",
    "          between them uniformly according to inverse depth.\n",
    "    Returns:\n",
    "      The depths sorted in descending order (so furthest first). This order is\n",
    "      useful for back to front compositing.\n",
    "    \"\"\"\n",
    "    return 1.0 / np.linspace(1.0 / start_depth, 1.0 / end_depth, num_depths)[::-1]\n",
    "inv_depths(1, 100, 10)"
   ]
  },
  {
   "cell_type": "code",
   "execution_count": null,
   "metadata": {},
   "outputs": [],
   "source": []
  }
 ],
 "metadata": {
  "interpreter": {
   "hash": "a6c8cccf23fc189a51b8b2ae4ca3b98de763e12cce4f9033fe8d82721c91cecc"
  },
  "kernelspec": {
   "display_name": "Python 3.9.7 ('base')",
   "language": "python",
   "name": "python3"
  },
  "language_info": {
   "codemirror_mode": {
    "name": "ipython",
    "version": 3
   },
   "file_extension": ".py",
   "mimetype": "text/x-python",
   "name": "python",
   "nbconvert_exporter": "python",
   "pygments_lexer": "ipython3",
   "version": "3.9.7"
  },
  "orig_nbformat": 4
 },
 "nbformat": 4,
 "nbformat_minor": 2
}
