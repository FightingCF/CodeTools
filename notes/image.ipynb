{
 "cells": [
  {
   "cell_type": "markdown",
   "metadata": {},
   "source": [
    "> ## 4-channel png -> 3-channel rgb"
   ]
  },
  {
   "cell_type": "code",
   "execution_count": 17,
   "metadata": {},
   "outputs": [
    {
     "data": {
      "image/png": "[encoded data removed]",
      "text/plain": [
       "<Figure size 432x288 with 3 Axes>"
      ]
     },
     "metadata": {
      "needs_background": "light"
     },
     "output_type": "display_data"
    }
   ],
   "source": [
    "import imageio\n",
    "import matplotlib.pyplot as plt\n",
    "import numpy as np\n",
    "img = imageio.imread('../assets/bike.png')\n",
    "flag_white_background = True\n",
    "flag_black_background = True\n",
    "if img.shape[-1] == 4:\n",
    "    if flag_white_background:\n",
    "        img_white_bg = img[..., :3] * (img[..., -1:] // 255) + (255 - img[..., -1:])\n",
    "    if flag_black_background:\n",
    "        img_black_bg = img[..., :3] * (img[..., -1:] // 255) + img[..., -1:]\n",
    "plt.figure()\n",
    "plt.subplot(131)\n",
    "plt.imshow(img)\n",
    "plt.subplot(132)\n",
    "plt.imshow(img_white_bg)\n",
    "plt.subplot(133)\n",
    "plt.imshow(img_black_bg)\n",
    "plt.show()"
   ]
  },
  {
   "cell_type": "markdown",
   "metadata": {},
   "source": [
    "> ## Batch rename pictures"
   ]
  },
  {
   "cell_type": "code",
   "execution_count": null,
   "metadata": {},
   "outputs": [],
   "source": [
    "import os\n",
    "img_folder = 'D:/datasets/stars/'\n",
    "img_paths = os.listdir(img_folder)\n",
    "for i, img_path in enumerate(img_paths):\n",
    "    os.rename(os.path.join(img_folder, img_path), \n",
    "              os.path.join(img_folder, '{:0>6}.jpg'.format(i)))"
   ]
  },
  {
   "cell_type": "markdown",
   "metadata": {},
   "source": [
    "## cv2"
   ]
  },
  {
   "cell_type": "code",
   "execution_count": 2,
   "metadata": {},
   "outputs": [],
   "source": [
    "# robustly read image\n",
    "import cv2\n",
    "import numpy as np\n",
    "img_path = \"D:/dataset/dtu/Rectified/scan1/rect_001_1_r5000.png\"\n",
    "img = cv2.imread(img_path, cv2.IMREAD_UNCHANGED)\n",
    "if img.shape[-1] != 3:\n",
    "    img = cv2.cvtColor(img, cv2.COLOR_BGR2RGB)\n",
    "else:\n",
    "    img = cv2.cvtColor(img, cv2.COLOR_BGR2RGBA)\n",
    "img = img.astype(np.float32) / 255.0"
   ]
  },
  {
   "cell_type": "code",
   "execution_count": null,
   "metadata": {},
   "outputs": [],
   "source": [
    "# RGBA to RGB\n",
    "img = img[..., :3] * img[..., -1:] + (1 - img[..., -1:])"
   ]
  },
  {
   "cell_type": "markdown",
   "metadata": {},
   "source": [
    "## PIL"
   ]
  },
  {
   "cell_type": "code",
   "execution_count": null,
   "metadata": {},
   "outputs": [],
   "source": [
    "from PIL import Image\n",
    "import numpy as np\n",
    "W, H = 0, 0\n",
    "img_path = \"...\"\n",
    "# read an image\n",
    "img = Image.open(img_path)\n",
    "# convert to grayscale\n",
    "img_grey = img.convert('L')\n",
    "\n",
    "# img resized (Image.Nearest, Image.Bilinear, Image.BICUBIC, Image.ANTIALIAS)\n",
    "img = img.resize((W, H), Image.ANTIALIAS)\n",
    "\n",
    "# convert to np array\n",
    "img_np = np.array(img)"
   ]
  }
 ],
 "metadata": {
  "interpreter": {
   "hash": "a6c8cccf23fc189a51b8b2ae4ca3b98de763e12cce4f9033fe8d82721c91cecc"
  },
  "kernelspec": {
   "display_name": "Python 3.8.10 64-bit ('base': conda)",
   "language": "python",
   "name": "python3"
  },
  "language_info": {
   "codemirror_mode": {
    "name": "ipython",
    "version": 3
   },
   "file_extension": ".py",
   "mimetype": "text/x-python",
   "name": "python",
   "nbconvert_exporter": "python",
   "pygments_lexer": "ipython3",
   "version": "3.9.7"
  },
  "orig_nbformat": 4
 },
 "nbformat": 4,
 "nbformat_minor": 2
}
