{
 "cells": [
  {
   "cell_type": "markdown",
   "metadata": {},
   "source": [
    "> ## Read and save npz file"
   ]
  },
  {
   "cell_type": "code",
   "execution_count": 1,
   "metadata": {},
   "outputs": [],
   "source": [
    "# save npz file\n",
    "import numpy as np\n",
    "a = np.arange(5)\n",
    "b = np.arange(6)\n",
    "c = np.arange(7)\n",
    "np.savez('../assets/test.npz', a, b, arr_c=c)"
   ]
  },
  {
   "cell_type": "code",
   "execution_count": 2,
   "metadata": {},
   "outputs": [
    {
     "name": "stdout",
     "output_type": "stream",
     "text": [
      "['arr_c', 'arr_0', 'arr_1']\n",
      "arr_0: [0 1 2 3 4]\n",
      "arr_1: [0 1 2 3 4 5]\n",
      "arr_c: [0 1 2 3 4 5 6]\n"
     ]
    }
   ],
   "source": [
    "# read npz file\n",
    "data = np.load(\"../assets/test.npz\")\n",
    "print(data.files)\n",
    "print('arr_0:', data['arr_0'])\n",
    "print('arr_1:', data['arr_1'])\n",
    "print('arr_c:', data['arr_c'])"
   ]
  },
  {
   "cell_type": "markdown",
   "metadata": {},
   "source": [
    "> ## Basic operations"
   ]
  },
  {
   "cell_type": "code",
   "execution_count": 1,
   "metadata": {},
   "outputs": [
    {
     "data": {
      "text/plain": [
       "[1, 2, 3, 4, 5, 1, 2, 3, 4]"
      ]
     },
     "execution_count": 1,
     "metadata": {},
     "output_type": "execute_result"
    }
   ],
   "source": [
    "# extend: add elements to a list\n",
    "import numpy as np\n",
    "l = [1,2,3,4]\n",
    "all_l = [1,2,3,4,5]\n",
    "all_l.extend(l)\n",
    "all_l"
   ]
  },
  {
   "cell_type": "code",
   "execution_count": null,
   "metadata": {},
   "outputs": [],
   "source": []
  }
 ],
 "metadata": {
  "interpreter": {
   "hash": "a6c8cccf23fc189a51b8b2ae4ca3b98de763e12cce4f9033fe8d82721c91cecc"
  },
  "kernelspec": {
   "display_name": "Python 3.8.10 64-bit ('base': conda)",
   "language": "python",
   "name": "python3"
  },
  "language_info": {
   "codemirror_mode": {
    "name": "ipython",
    "version": 3
   },
   "file_extension": ".py",
   "mimetype": "text/x-python",
   "name": "python",
   "nbconvert_exporter": "python",
   "pygments_lexer": "ipython3",
   "version": "3.9.7"
  },
  "orig_nbformat": 4
 },
 "nbformat": 4,
 "nbformat_minor": 2
}
