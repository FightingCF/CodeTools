{
 "cells": [
  {
   "cell_type": "markdown",
   "metadata": {},
   "source": [
    "> ## Avoid dividing by 0"
   ]
  },
  {
   "cell_type": "code",
   "execution_count": 8,
   "metadata": {},
   "outputs": [
    {
     "name": "stdout",
     "output_type": "stream",
     "text": [
      "tensor([[-1.4704, -1.1935, -0.9546],\n",
      "        [ 1.8129,  0.0000,  0.8823],\n",
      "        [ 0.2315, -0.0780,  1.2956],\n",
      "        [-1.8254, -0.7739,  0.0000],\n",
      "        [-1.6873,  0.8103, -0.9103]])\n",
      "tensor([[-1.4704e+00, -1.1935e+00, -9.5460e-01],\n",
      "        [ 1.8129e+00,  1.0000e-06,  8.8226e-01],\n",
      "        [ 2.3150e-01, -7.8001e-02,  1.2956e+00],\n",
      "        [-1.8254e+00, -7.7394e-01,  1.0000e-06],\n",
      "        [-1.6873e+00,  8.1032e-01, -9.1029e-01]])\n"
     ]
    }
   ],
   "source": [
    "import torch\n",
    "t = torch.randn(5, 3)\n",
    "t[3][2] = t[1][1] = 0\n",
    "t_modified = torch.where(t==0, torch.full_like(t, 1e-6), t)\n",
    "print(t)\n",
    "print(t_modified)"
   ]
  },
  {
   "cell_type": "markdown",
   "metadata": {},
   "source": [
    "## Sorted"
   ]
  },
  {
   "cell_type": "code",
   "execution_count": 3,
   "metadata": {},
   "outputs": [
    {
     "data": {
      "text/plain": [
       "[1, 2, 3, 5, 7, 9]"
      ]
     },
     "execution_count": 3,
     "metadata": {},
     "output_type": "execute_result"
    }
   ],
   "source": [
    "a = [1,2,3,5,9,7]\n",
    "sorted(a)"
   ]
  },
  {
   "cell_type": "code",
   "execution_count": 9,
   "metadata": {},
   "outputs": [
    {
     "data": {
      "text/plain": [
       "[('a', 1), ('b', 2), ('c', 3), ('d', 4)]"
      ]
     },
     "execution_count": 9,
     "metadata": {},
     "output_type": "execute_result"
    }
   ],
   "source": [
    "import functools\n",
    "L = [('b',2),('a',1),('c',3),('d',4)]\n",
    "sorted(L, key = lambda x: x[1])"
   ]
  },
  {
   "cell_type": "markdown",
   "metadata": {},
   "source": [
    "## the use of \"*\""
   ]
  },
  {
   "cell_type": "code",
   "execution_count": 7,
   "metadata": {},
   "outputs": [
    {
     "data": {
      "text/plain": [
       "5"
      ]
     },
     "execution_count": 7,
     "metadata": {},
     "output_type": "execute_result"
    }
   ],
   "source": [
    "# key should be equal to the parameter of the function\n",
    "def add(x, y):\n",
    "    return x+y\n",
    "d = {'x': 2, 'y': 3}\n",
    "add(**d)"
   ]
  },
  {
   "cell_type": "markdown",
   "metadata": {},
   "source": [
    "## randomly select items in a list"
   ]
  },
  {
   "cell_type": "code",
   "execution_count": 1,
   "metadata": {},
   "outputs": [
    {
     "data": {
      "text/plain": [
       "[9, 7, 6, 0, 1]"
      ]
     },
     "execution_count": 1,
     "metadata": {},
     "output_type": "execute_result"
    }
   ],
   "source": [
    "import random\n",
    "random.choices([i for i in range(10)], k=5)"
   ]
  },
  {
   "cell_type": "code",
   "execution_count": null,
   "metadata": {},
   "outputs": [],
   "source": []
  }
 ],
 "metadata": {
  "interpreter": {
   "hash": "a6c8cccf23fc189a51b8b2ae4ca3b98de763e12cce4f9033fe8d82721c91cecc"
  },
  "kernelspec": {
   "display_name": "Python 3.8.10 64-bit ('base': conda)",
   "language": "python",
   "name": "python3"
  },
  "language_info": {
   "codemirror_mode": {
    "name": "ipython",
    "version": 3
   },
   "file_extension": ".py",
   "mimetype": "text/x-python",
   "name": "python",
   "nbconvert_exporter": "python",
   "pygments_lexer": "ipython3",
   "version": "3.9.7"
  },
  "orig_nbformat": 4
 },
 "nbformat": 4,
 "nbformat_minor": 2
}
