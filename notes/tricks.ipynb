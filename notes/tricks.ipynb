{
 "cells": [
  {
   "cell_type": "markdown",
   "metadata": {},
   "source": [
    "> ## Avoid dividing by 0"
   ]
  },
  {
   "cell_type": "code",
   "execution_count": 8,
   "metadata": {},
   "outputs": [
    {
     "name": "stdout",
     "output_type": "stream",
     "text": [
      "tensor([[-1.4704, -1.1935, -0.9546],\n",
      "        [ 1.8129,  0.0000,  0.8823],\n",
      "        [ 0.2315, -0.0780,  1.2956],\n",
      "        [-1.8254, -0.7739,  0.0000],\n",
      "        [-1.6873,  0.8103, -0.9103]])\n",
      "tensor([[-1.4704e+00, -1.1935e+00, -9.5460e-01],\n",
      "        [ 1.8129e+00,  1.0000e-06,  8.8226e-01],\n",
      "        [ 2.3150e-01, -7.8001e-02,  1.2956e+00],\n",
      "        [-1.8254e+00, -7.7394e-01,  1.0000e-06],\n",
      "        [-1.6873e+00,  8.1032e-01, -9.1029e-01]])\n"
     ]
    }
   ],
   "source": [
    "import torch\n",
    "t = torch.randn(5, 3)\n",
    "t[3][2] = t[1][1] = 0\n",
    "t_modified = torch.where(t==0, torch.full_like(t, 1e-6), t)\n",
    "print(t)\n",
    "print(t_modified)"
   ]
  }
 ],
 "metadata": {
  "interpreter": {
   "hash": "a6c8cccf23fc189a51b8b2ae4ca3b98de763e12cce4f9033fe8d82721c91cecc"
  },
  "kernelspec": {
   "display_name": "Python 3.8.10 64-bit ('base': conda)",
   "language": "python",
   "name": "python3"
  },
  "language_info": {
   "name": "python",
   "version": "3.8.10"
  },
  "orig_nbformat": 4
 },
 "nbformat": 4,
 "nbformat_minor": 2
}
